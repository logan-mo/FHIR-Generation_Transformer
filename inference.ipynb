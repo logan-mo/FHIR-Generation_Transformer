{
 "cells": [
  {
   "cell_type": "code",
   "execution_count": null,
   "metadata": {},
   "outputs": [],
   "source": [
    "# !sudo apt install unzip\n",
    "!gdown 1ulMESAGvffNUOGK9sTsrt2ELEp8y5wmi\n",
    "!unzip saved_models.zip"
   ]
  },
  {
   "cell_type": "code",
   "execution_count": 2,
   "metadata": {},
   "outputs": [],
   "source": [
    "\n",
    "from transformers import T5Tokenizer, T5ForConditionalGeneration, T5Model\n",
    "from transformers import Seq2SeqTrainingArguments, Seq2SeqTrainer\n",
    "from transformers import DataCollatorForSeq2Seq\n",
    "from transformers import Adafactor\n",
    "from datasets import load_dataset\n",
    "from datetime import datetime\n",
    "import pandas as pd\n",
    "import random\n",
    "import string\n",
    "import torch"
   ]
  },
  {
   "cell_type": "code",
   "execution_count": 3,
   "metadata": {},
   "outputs": [],
   "source": [
    "def generate_seeds(seed_name: str, n: int):\n",
    "    seeds = []\n",
    "    if seed_name == 'time':\n",
    "        max_source_length = 64\n",
    "        for x in range(n):\n",
    "            seeds.append(datetime.now().strftime(\"%Y:%m:%d %H:%M:%S:%f\") + \" \" + str(random.randint(0, 100_000_000_000_00)))\n",
    "        \n",
    "        prefix = \"Generate a FHIR data row using the seed: \"\n",
    "        seeds = {\n",
    "            \"seed\": [prefix + doc for doc in seeds]\n",
    "        }\n",
    "        \n",
    "        return seeds, max_source_length\n",
    "\n",
    "    elif seed_name == 'random string':\n",
    "        max_source_length = 64\n",
    "        for x in range(n):\n",
    "            seeds.append(''.join(random.SystemRandom().choice(string.ascii_uppercase + string.digits) for _ in range(128)))\n",
    "        prefix = \"Generate a FHIR data row using the seed: \"\n",
    "        seeds = {\n",
    "            \"seed\": [prefix + doc for doc in seeds]\n",
    "        }\n",
    "        \n",
    "        return seeds, max_source_length\n",
    "\n",
    "    else:\n",
    "        raise ValueError(f'Unknown seed name: {seed_name}')"
   ]
  },
  {
   "cell_type": "code",
   "execution_count": 4,
   "metadata": {},
   "outputs": [
    {
     "data": {
      "text/plain": [
       "({'seed': ['Generate a FHIR data row using the seed: 2023:08:31 10:49:20:056875 6150673943501',\n",
       "   'Generate a FHIR data row using the seed: 2023:08:31 10:49:20:056875 1101172712791',\n",
       "   'Generate a FHIR data row using the seed: 2023:08:31 10:49:20:056875 7525435332086',\n",
       "   'Generate a FHIR data row using the seed: 2023:08:31 10:49:20:056875 2691349309467',\n",
       "   'Generate a FHIR data row using the seed: 2023:08:31 10:49:20:056875 7223912987934']},\n",
       " 64)"
      ]
     },
     "execution_count": 4,
     "metadata": {},
     "output_type": "execute_result"
    }
   ],
   "source": [
    "#generate_seeds('time', 5)\n",
    "#generate_seeds('random string', 5)"
   ]
  },
  {
   "cell_type": "code",
   "execution_count": 6,
   "metadata": {},
   "outputs": [],
   "source": [
    "seeds, max_source_length = generate_seeds('time', 5)"
   ]
  },
  {
   "cell_type": "code",
   "execution_count": 8,
   "metadata": {},
   "outputs": [],
   "source": [
    "saved_model_dir = \"./saved_models\"\n",
    "tokenizer       = T5Tokenizer.from_pretrained(saved_model_dir, legace=False)\n",
    "model           = T5ForConditionalGeneration.from_pretrained(saved_model_dir).to('cuda')"
   ]
  },
  {
   "cell_type": "code",
   "execution_count": null,
   "metadata": {},
   "outputs": [],
   "source": [
    "model_outputs = model.generate(**\n",
    "    tokenizer(\n",
    "        text_target      = seeds['seed'],\n",
    "        padding          = \"longest\",\n",
    "        max_length       = max_source_length,\n",
    "        truncation       = True,\n",
    "        return_tensors    = 'pt'\n",
    "    ).to('cuda'),\n",
    "    max_length=4096\n",
    ")"
   ]
  },
  {
   "cell_type": "code",
   "execution_count": null,
   "metadata": {},
   "outputs": [],
   "source": [
    "df = pd.DataFrame({\n",
    "    \"seed\": seeds['seed'],\n",
    "    \"Generated_FHIR\": tokenizer.batch_decode(model_outputs, skip_special_tokens=True)\n",
    "    })"
   ]
  },
  {
   "cell_type": "code",
   "execution_count": null,
   "metadata": {},
   "outputs": [],
   "source": [
    "df.to_csv(\"generated_fhir.csv\", index=False)"
   ]
  }
 ],
 "metadata": {
  "kernelspec": {
   "display_name": ".venv",
   "language": "python",
   "name": "python3"
  },
  "language_info": {
   "codemirror_mode": {
    "name": "ipython",
    "version": 3
   },
   "file_extension": ".py",
   "mimetype": "text/x-python",
   "name": "python",
   "nbconvert_exporter": "python",
   "pygments_lexer": "ipython3",
   "version": "3.10.11"
  },
  "orig_nbformat": 4
 },
 "nbformat": 4,
 "nbformat_minor": 2
}
