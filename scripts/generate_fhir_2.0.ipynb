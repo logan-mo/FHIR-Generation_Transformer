{
 "cells": [
  {
   "cell_type": "code",
   "execution_count": 1,
   "metadata": {},
   "outputs": [],
   "source": [
    "import torchtext\n",
    "\n",
    "# Define the tokenizer\n",
    "tokenizer = torchtext.data.get_tokenizer('basic_english')\n",
    "\n",
    "# Tokenize the data\n",
    "tokenized_data = []\n",
    "with open('data/chunk_1.csv', 'r') as f:\n",
    "    lines = f.read().splitlines()\n",
    "    for line in lines:\n",
    "        tokenized_data.append(tokenizer(line))\n",
    "\n",
    "# Build the vocabulary\n",
    "vocab = torchtext.vocab.build_vocab_from_iterator(tokenized_data)\n",
    "\n",
    "# Convert tokens to indices\n",
    "sequences = []\n",
    "for token_sequence in tokenized_data:\n",
    "    sequences.append([vocab[token] for token in token_sequence])"
   ]
  },
  {
   "cell_type": "code",
   "execution_count": 2,
   "metadata": {},
   "outputs": [
    {
     "name": "stdout",
     "output_type": "stream",
     "text": [
      "[34, 40, 30, 40346, 32, 1, 12, 0, 45, 38, 41, 37, 21, 47, 20, 0, 46, 0, 43, 4, 19, 16, 10, 7, 4, 2, 9, 8, 3, 0, 48, 90, 10, 7, 4, 2, 9, 8, 3, 85, 10, 7, 4, 2, 9, 8, 3, 87, 4, 62, 64, 15, 65, 91, 0, 63, 35, 11, 31, 42, 24, 1, 12, 0, 44, 23, 39, 27, 1, 5, 0, 6, 25, 89, 26, 16, 10, 7, 4, 2, 9, 8, 3, 28, 16, 10, 7, 4, 2, 9, 8, 3, 36, 14306, 29, 93450, 33, 774, 395, 463, 13, 73, 1907, 395, 463, 13, 22, 54155, 67, 73902, 51, 1, 5, 0, 6, 49, 88, 50, 69, 68, 2, 14, 3, 52, 69, 68, 2, 14, 3, 54, 11, 53, 280, 76, 80, 99, 114, 284, 57, 1, 5, 0, 6, 55, 118, 56, 75, 74, 94, 95, 2, 14, 3, 58, 75, 74, 94, 95, 2, 14, 3, 60, 11, 59, 280, 76, 80, 99, 114, 284]\n",
      "[34, 40, 30, 36121, 32, 1, 12, 0, 45, 38, 41, 37, 21, 47, 20, 0, 46, 0, 43, 4, 19, 16, 10, 7, 4, 2, 9, 8, 3, 0, 48, 90, 10, 7, 4, 2, 9, 8, 3, 85, 10, 7, 4, 2, 9, 8, 3, 87, 4, 62, 64, 15, 65, 112, 91, 0, 63, 35, 11, 31, 42, 24, 1, 12, 0, 44, 23, 39, 27, 1, 5, 0, 6, 25, 89, 26, 16, 10, 7, 4, 2, 9, 8, 3, 28, 16, 10, 7, 4, 2, 9, 8, 3, 36, 14305, 29, 13816, 33, 749, 338, 434, 13, 73, 751, 324, 442, 13, 22, 54190, 67, 75233, 51, 1, 5, 0, 6, 49, 88, 50, 69, 68, 2, 14, 3, 52, 69, 68, 2, 14, 3, 54, 11, 53, 264, 272, 149, 158, 17, 57, 1, 5, 0, 6, 55, 111, 56, 81, 84, 82, 2, 70, 83, 3, 58, 81, 84, 82, 2, 70, 83, 3, 60, 11, 59, 264, 272, 149, 158, 17]\n",
      "[34, 40, 30, 89335, 32, 1, 12, 0, 45, 38, 41, 37, 21, 47, 20, 0, 46, 0, 43, 4, 19, 16, 10, 7, 4, 2, 9, 8, 3, 0, 48, 90, 10, 7, 4, 2, 9, 8, 3, 85, 10, 7, 4, 2, 9, 8, 3, 87, 4, 62, 64, 15, 65, 91, 0, 63, 35, 11, 31, 42, 24, 1, 12, 0, 44, 23, 39, 27, 1, 5, 0, 6, 25, 89, 26, 16, 10, 7, 4, 2, 9, 8, 3, 28, 16, 10, 7, 4, 2, 9, 8, 3, 36, 14305, 29, 13816, 33, 751, 324, 442, 13, 73, 1605, 324, 442, 13, 22, 53464, 67, 77846, 51, 1, 5, 0, 6, 49, 88, 50, 69, 68, 2, 14, 3, 52, 69, 68, 2, 14, 3, 54, 11, 53, 264, 272, 149, 158, 17, 57, 1, 5, 0, 6, 55, 118, 56, 75, 74, 94, 95, 2, 14, 3, 58, 75, 74, 94, 95, 2, 14, 3, 60, 11, 59, 264, 272, 149, 158, 17]\n",
      "[34, 40, 30, 87774, 32, 1, 12, 0, 45, 38, 41, 37, 21, 47, 20, 0, 46, 0, 43, 4, 19, 206, 7, 0, 48, 410, 411, 126, 4, 62, 64, 15, 65, 412, 74, 690, 0, 63, 35, 11, 31, 42, 24, 1, 12, 0, 44, 23, 39, 27, 1, 5, 0, 6, 25, 406, 26, 206, 7, 28, 206, 7, 36, 14050, 29, 99638, 33, 25949, 324, 522, 13, 73, 26035, 339, 501, 13, 22, 53579, 67, 76926, 51, 1, 5, 0, 6, 49, 362, 50, 235, 234, 71, 52, 235, 234, 71, 54, 11, 53, 280, 76, 80, 99, 114, 284, 57, 1, 5, 0, 6, 55, 363, 56, 155, 15, 208, 157, 58, 155, 15, 208, 157, 60, 11, 59, 280, 76, 80, 99, 114, 284]\n",
      "[34, 40, 30, 42412, 32, 1, 12, 0, 45, 38, 41, 37, 21, 47, 20, 0, 46, 0, 43, 4, 19, 119, 72, 7, 0, 48, 217, 72, 147, 72, 147, 72, 126, 4, 62, 64, 15, 65, 218, 219, 0, 63, 35, 11, 31, 42, 24, 1, 12, 0, 44, 23, 39, 27, 1, 5, 0, 6, 25, 213, 26, 119, 72, 7, 28, 119, 72, 7, 36, 105350, 29, 98114, 33, 28562, 355, 446, 13, 73, 29510, 355, 446, 13, 22, 65332, 67, 78578, 51, 1, 5, 0, 6, 49, 214, 50, 72, 18, 52, 72, 18, 54, 11, 53, 239, 151, 17, 57, 1, 5, 0, 6, 55, 216, 56, 72, 144, 140, 58, 72, 144, 140, 60, 11, 59, 239, 151, 17, 107, 1, 5, 0, 6, 105, 215, 106, 72, 146, 148, 108, 72, 146, 148, 110, 11, 109, 239, 151, 17]\n"
     ]
    }
   ],
   "source": [
    "# Print the first 5 sequences as indices\n",
    "for sequence in sequences[:5]:\n",
    "    print(sequence)"
   ]
  },
  {
   "cell_type": "code",
   "execution_count": 3,
   "metadata": {},
   "outputs": [
    {
     "name": "stdout",
     "output_type": "stream",
     "text": [
      "['[resourcetype]', 'careplan', '[id]', '76d3b4b2-398f-4373-4957-599959c26e87', '[meta][profile][0]', 'http', '//hl7', '.', 'org/fhir/us/core/structuredefinition/us-core-careplan', '[text][status]', 'generated', '[text][div]', '<div', 'xmlns=http', '//www', '.', 'w3', '.', 'org/1999/xhtml>care', 'plan', 'for', 'infectious', 'disease', 'care', 'plan', '(', 'record', 'artifact', ')', '.', '<br/>activities', '<ul><li>infectious', 'disease', 'care', 'plan', '(', 'record', 'artifact', ')', '</li><li>infectious', 'disease', 'care', 'plan', '(', 'record', 'artifact', ')', '</li></ul><br/>care', 'plan', 'is', 'meant', 'to', 'treat', 'covid-19', '.', '</div>', '[status]', 'completed', '[intent]', 'order', '[category][0][coding][0][system]', 'http', '//hl7', '.', 'org/fhir/us/core/codesystem/careplan-category', '[category][0][coding][0][code]', 'assess-plan', '[category][1][coding][0][system]', 'http', '//snomed', '.', 'info/sct', '[category][1][coding][0][code]', '736376001', '[category][1][coding][0][display]', 'infectious', 'disease', 'care', 'plan', '(', 'record', 'artifact', ')', '[category][1][text]', 'infectious', 'disease', 'care', 'plan', '(', 'record', 'artifact', ')', '[subject][reference]', 'patient/4a62b5fe-0dbd-fef9-e9a9-c21cecc5df61', '[encounter][reference]', 'encounter/3bffc09e-9247-6538-e8db-6c119e3f1e2c', '[period][start]', '2020-03-09t16', '39', '52-04', '00', '[period][end]', '2020-03-27t13', '39', '52-04', '00', '[careteam][0][reference]', 'careteam/51954d07-f4a7-0f1a-b7a3-9c0f1f592038', '[addresses][0][reference]', 'condition/3e78ad09-6fec-ede1-b27a-47e79bee28f1', '[activity][0][detail][code][coding][0][system]', 'http', '//snomed', '.', 'info/sct', '[activity][0][detail][code][coding][0][code]', '409524006', '[activity][0][detail][code][coding][0][display]', 'airborne', 'precautions', '(', 'procedure', ')', '[activity][0][detail][code][text]', 'airborne', 'precautions', '(', 'procedure', ')', '[activity][0][detail][status]', 'completed', '[activity][0][detail][location][display]', 'berkshire', 'medical', 'center', 'inc', '-', '1', '[activity][1][detail][code][coding][0][system]', 'http', '//snomed', '.', 'info/sct', '[activity][1][detail][code][coding][0][code]', '361235007', '[activity][1][detail][code][coding][0][display]', 'isolation', 'of', 'infected', 'patient', '(', 'procedure', ')', '[activity][1][detail][code][text]', 'isolation', 'of', 'infected', 'patient', '(', 'procedure', ')', '[activity][1][detail][status]', 'completed', '[activity][1][detail][location][display]', 'berkshire', 'medical', 'center', 'inc', '-', '1']\n",
      "['[resourcetype]', 'careplan', '[id]', '438f38cf-970c-ac81-f17c-322ff4b08dc6', '[meta][profile][0]', 'http', '//hl7', '.', 'org/fhir/us/core/structuredefinition/us-core-careplan', '[text][status]', 'generated', '[text][div]', '<div', 'xmlns=http', '//www', '.', 'w3', '.', 'org/1999/xhtml>care', 'plan', 'for', 'infectious', 'disease', 'care', 'plan', '(', 'record', 'artifact', ')', '.', '<br/>activities', '<ul><li>infectious', 'disease', 'care', 'plan', '(', 'record', 'artifact', ')', '</li><li>infectious', 'disease', 'care', 'plan', '(', 'record', 'artifact', ')', '</li></ul><br/>care', 'plan', 'is', 'meant', 'to', 'treat', 'suspected', 'covid-19', '.', '</div>', '[status]', 'completed', '[intent]', 'order', '[category][0][coding][0][system]', 'http', '//hl7', '.', 'org/fhir/us/core/codesystem/careplan-category', '[category][0][coding][0][code]', 'assess-plan', '[category][1][coding][0][system]', 'http', '//snomed', '.', 'info/sct', '[category][1][coding][0][code]', '736376001', '[category][1][coding][0][display]', 'infectious', 'disease', 'care', 'plan', '(', 'record', 'artifact', ')', '[category][1][text]', 'infectious', 'disease', 'care', 'plan', '(', 'record', 'artifact', ')', '[subject][reference]', 'patient/4a4a00f0-e2f2-9202-b32e-c6da5beeba42', '[encounter][reference]', 'encounter/f52cd032-50a5-821e-af4a-698405c104ce', '[period][start]', '2020-03-09t03', '03', '07-04', '00', '[period][end]', '2020-03-09t04', '10', '51-04', '00', '[careteam][0][reference]', 'careteam/52011692-f9da-f6a1-6a2f-f6d32d118f5d', '[addresses][0][reference]', 'condition/506d2cd2-ce09-3a57-1060-e8ee72454828', '[activity][0][detail][code][coding][0][system]', 'http', '//snomed', '.', 'info/sct', '[activity][0][detail][code][coding][0][code]', '409524006', '[activity][0][detail][code][coding][0][display]', 'airborne', 'precautions', '(', 'procedure', ')', '[activity][0][detail][code][text]', 'airborne', 'precautions', '(', 'procedure', ')', '[activity][0][detail][status]', 'completed', '[activity][0][detail][location][display]', 'saint', 'anne', \"'\", 's', 'hospital', '[activity][1][detail][code][coding][0][system]', 'http', '//snomed', '.', 'info/sct', '[activity][1][detail][code][coding][0][code]', '409526008', '[activity][1][detail][code][coding][0][display]', 'personal', 'protective', 'equipment', '(', 'physical', 'object', ')', '[activity][1][detail][code][text]', 'personal', 'protective', 'equipment', '(', 'physical', 'object', ')', '[activity][1][detail][status]', 'completed', '[activity][1][detail][location][display]', 'saint', 'anne', \"'\", 's', 'hospital']\n",
      "['[resourcetype]', 'careplan', '[id]', 'e640ce64-377a-5347-84bd-105afc430813', '[meta][profile][0]', 'http', '//hl7', '.', 'org/fhir/us/core/structuredefinition/us-core-careplan', '[text][status]', 'generated', '[text][div]', '<div', 'xmlns=http', '//www', '.', 'w3', '.', 'org/1999/xhtml>care', 'plan', 'for', 'infectious', 'disease', 'care', 'plan', '(', 'record', 'artifact', ')', '.', '<br/>activities', '<ul><li>infectious', 'disease', 'care', 'plan', '(', 'record', 'artifact', ')', '</li><li>infectious', 'disease', 'care', 'plan', '(', 'record', 'artifact', ')', '</li></ul><br/>care', 'plan', 'is', 'meant', 'to', 'treat', 'covid-19', '.', '</div>', '[status]', 'completed', '[intent]', 'order', '[category][0][coding][0][system]', 'http', '//hl7', '.', 'org/fhir/us/core/codesystem/careplan-category', '[category][0][coding][0][code]', 'assess-plan', '[category][1][coding][0][system]', 'http', '//snomed', '.', 'info/sct', '[category][1][coding][0][code]', '736376001', '[category][1][coding][0][display]', 'infectious', 'disease', 'care', 'plan', '(', 'record', 'artifact', ')', '[category][1][text]', 'infectious', 'disease', 'care', 'plan', '(', 'record', 'artifact', ')', '[subject][reference]', 'patient/4a4a00f0-e2f2-9202-b32e-c6da5beeba42', '[encounter][reference]', 'encounter/f52cd032-50a5-821e-af4a-698405c104ce', '[period][start]', '2020-03-09t04', '10', '51-04', '00', '[period][end]', '2020-03-27t16', '10', '51-04', '00', '[careteam][0][reference]', 'careteam/49bcadc8-360e-03e6-0e7d-d700783cd240', '[addresses][0][reference]', 'condition/766108f2-42d3-8fcf-9f98-1a12d7e26ee6', '[activity][0][detail][code][coding][0][system]', 'http', '//snomed', '.', 'info/sct', '[activity][0][detail][code][coding][0][code]', '409524006', '[activity][0][detail][code][coding][0][display]', 'airborne', 'precautions', '(', 'procedure', ')', '[activity][0][detail][code][text]', 'airborne', 'precautions', '(', 'procedure', ')', '[activity][0][detail][status]', 'completed', '[activity][0][detail][location][display]', 'saint', 'anne', \"'\", 's', 'hospital', '[activity][1][detail][code][coding][0][system]', 'http', '//snomed', '.', 'info/sct', '[activity][1][detail][code][coding][0][code]', '361235007', '[activity][1][detail][code][coding][0][display]', 'isolation', 'of', 'infected', 'patient', '(', 'procedure', ')', '[activity][1][detail][code][text]', 'isolation', 'of', 'infected', 'patient', '(', 'procedure', ')', '[activity][1][detail][status]', 'completed', '[activity][1][detail][location][display]', 'saint', 'anne', \"'\", 's', 'hospital']\n",
      "['[resourcetype]', 'careplan', '[id]', 'd462da87-eb7c-a919-eefc-1a65f6f325a2', '[meta][profile][0]', 'http', '//hl7', '.', 'org/fhir/us/core/structuredefinition/us-core-careplan', '[text][status]', 'generated', '[text][div]', '<div', 'xmlns=http', '//www', '.', 'w3', '.', 'org/1999/xhtml>care', 'plan', 'for', 'wound', 'care', '.', '<br/>activities', '<ul><li>wound', 'care</li><li>wound', 'care</li></ul><br/>care', 'plan', 'is', 'meant', 'to', 'treat', 'laceration', 'of', 'thigh', '.', '</div>', '[status]', 'completed', '[intent]', 'order', '[category][0][coding][0][system]', 'http', '//hl7', '.', 'org/fhir/us/core/codesystem/careplan-category', '[category][0][coding][0][code]', 'assess-plan', '[category][1][coding][0][system]', 'http', '//snomed', '.', 'info/sct', '[category][1][coding][0][code]', '225358003', '[category][1][coding][0][display]', 'wound', 'care', '[category][1][text]', 'wound', 'care', '[subject][reference]', 'patient/0252672c-0be4-cc2c-f5e8-b376b574b5ff', '[encounter][reference]', 'encounter/b11f5930-1463-88f8-2c97-4ba6a7f9e9c6', '[period][start]', '2018-11-28t13', '10', '27-05', '00', '[period][end]', '2018-12-16t13', '33', '49-05', '00', '[careteam][0][reference]', 'careteam/4ae4f5f8-1806-da2d-10c2-7c1896d55051', '[addresses][0][reference]', 'condition/69369c22-a29b-73a5-1e01-719c50557565', '[activity][0][detail][code][coding][0][system]', 'http', '//snomed', '.', 'info/sct', '[activity][0][detail][code][coding][0][code]', '385949008', '[activity][0][detail][code][coding][0][display]', 'dressing', 'change', 'management', '[activity][0][detail][code][text]', 'dressing', 'change', 'management', '[activity][0][detail][status]', 'completed', '[activity][0][detail][location][display]', 'berkshire', 'medical', 'center', 'inc', '-', '1', '[activity][1][detail][code][coding][0][system]', 'http', '//snomed', '.', 'info/sct', '[activity][1][detail][code][coding][0][code]', '439830001', '[activity][1][detail][code][coding][0][display]', 'behavior', 'to', 'prevent', 'infection', '[activity][1][detail][code][text]', 'behavior', 'to', 'prevent', 'infection', '[activity][1][detail][status]', 'completed', '[activity][1][detail][location][display]', 'berkshire', 'medical', 'center', 'inc', '-', '1']\n",
      "['[resourcetype]', 'careplan', '[id]', '8f201be8-c19f-0a98-1a8f-068a5ba58da4', '[meta][profile][0]', 'http', '//hl7', '.', 'org/fhir/us/core/structuredefinition/us-core-careplan', '[text][status]', 'generated', '[text][div]', '<div', 'xmlns=http', '//www', '.', 'w3', '.', 'org/1999/xhtml>care', 'plan', 'for', 'routine', 'antenatal', 'care', '.', '<br/>activities', '<ul><li>routine', 'antenatal', 'care</li><li>routine', 'antenatal', 'care</li><li>routine', 'antenatal', 'care</li></ul><br/>care', 'plan', 'is', 'meant', 'to', 'treat', 'normal', 'pregnancy', '.', '</div>', '[status]', 'completed', '[intent]', 'order', '[category][0][coding][0][system]', 'http', '//hl7', '.', 'org/fhir/us/core/codesystem/careplan-category', '[category][0][coding][0][code]', 'assess-plan', '[category][1][coding][0][system]', 'http', '//snomed', '.', 'info/sct', '[category][1][coding][0][code]', '134435003', '[category][1][coding][0][display]', 'routine', 'antenatal', 'care', '[category][1][text]', 'routine', 'antenatal', 'care', '[subject][reference]', 'patient/8142b4a0-60d6-839d-1b6f-d9d04b091080', '[encounter][reference]', 'encounter/940046d4-9bec-e634-4a8d-3ee05c2b171c', '[period][start]', '2020-09-01t18', '28', '13-04', '00', '[period][end]', '2021-04-13t18', '28', '13-04', '00', '[careteam][0][reference]', 'careteam/d4a9247b-bc49-3e1a-919e-8ae1832740a0', '[addresses][0][reference]', 'condition/80e638aa-3399-969e-3d69-ac47bc1b8db7', '[activity][0][detail][code][coding][0][system]', 'http', '//snomed', '.', 'info/sct', '[activity][0][detail][code][coding][0][code]', '135892000', '[activity][0][detail][code][coding][0][display]', 'antenatal', 'education', '[activity][0][detail][code][text]', 'antenatal', 'education', '[activity][0][detail][status]', 'completed', '[activity][0][detail][location][display]', 'lawrence', 'general', 'hospital', '[activity][1][detail][code][coding][0][system]', 'http', '//snomed', '.', 'info/sct', '[activity][1][detail][code][coding][0][code]', '713076009', '[activity][1][detail][code][coding][0][display]', 'antenatal', 'risk', 'assessment', '[activity][1][detail][code][text]', 'antenatal', 'risk', 'assessment', '[activity][1][detail][status]', 'completed', '[activity][1][detail][location][display]', 'lawrence', 'general', 'hospital', '[activity][2][detail][code][coding][0][system]', 'http', '//snomed', '.', 'info/sct', '[activity][2][detail][code][coding][0][code]', '312404004', '[activity][2][detail][code][coding][0][display]', 'antenatal', 'blood', 'tests', '[activity][2][detail][code][text]', 'antenatal', 'blood', 'tests', '[activity][2][detail][status]', 'completed', '[activity][2][detail][location][display]', 'lawrence', 'general', 'hospital']\n"
     ]
    }
   ],
   "source": [
    "# Print the first 5 sequences as tokens\n",
    "for sequence in sequences[:5]:\n",
    "    print([vocab.get_itos()[index] for index in sequence])"
   ]
  },
  {
   "cell_type": "code",
   "execution_count": 4,
   "metadata": {},
   "outputs": [],
   "source": [
    "import os\n",
    "import torch\n",
    "from torch import nn\n",
    "from torch.utils.data import random_split, DataLoader\n",
    "from torch.nn.utils.rnn import pad_sequence"
   ]
  },
  {
   "cell_type": "code",
   "execution_count": 5,
   "metadata": {},
   "outputs": [
    {
     "name": "stdout",
     "output_type": "stream",
     "text": [
      "105506\n"
     ]
    }
   ],
   "source": [
    "device = torch.device('cuda' if torch.cuda.is_available() else 'cpu')\n",
    "#device = torch.device('cpu')\n",
    "# Set the hyperparameters\n",
    "embedding_dim = 64\n",
    "hidden_dim = 128\n",
    "vocab_size = len(vocab)\n",
    "print(vocab_size)\n",
    "num_epochs = 1\n",
    "batch_size = 16"
   ]
  },
  {
   "cell_type": "code",
   "execution_count": 6,
   "metadata": {},
   "outputs": [],
   "source": [
    "# Define the model\n",
    "class RNNModel(nn.Module):\n",
    "    def __init__(self, vocab_size, embedding_dim, hidden_dim):\n",
    "        super(RNNModel, self).__init__()\n",
    "        self.embedding = nn.Embedding(vocab_size, embedding_dim)\n",
    "        self.rnn = nn.RNN(embedding_dim, hidden_dim, batch_first=True)\n",
    "        self.fc = nn.Linear(hidden_dim, vocab_size)\n",
    "\n",
    "    def forward(self, x):\n",
    "        x = self.embedding(x)\n",
    "        output, _ = self.rnn(x)\n",
    "        output = self.fc(output)\n",
    "        return output\n",
    "\n",
    "def pad_collate(batch):\n",
    "    (sequences, targets) = zip(*batch)\n",
    "    sequences_pad = pad_sequence(sequences, batch_first=True, padding_value=0)\n",
    "    targets_pad = pad_sequence(targets, batch_first=True, padding_value=0)\n",
    "    return sequences_pad, targets_pad\n",
    "\n",
    "# Initialize the model and move it to the device\n",
    "\n",
    "model = RNNModel(vocab_size, embedding_dim, hidden_dim)\n",
    "model = model.to(device)"
   ]
  },
  {
   "cell_type": "code",
   "execution_count": 7,
   "metadata": {},
   "outputs": [],
   "source": [
    "# Set the loss function and optimizer\n",
    "loss_function = nn.CrossEntropyLoss()\n",
    "optimizer = torch.optim.Adam(model.parameters())\n",
    "\n",
    "# Load model and optimizer states from a PRETRAINED MODEL\n",
    "\n",
    "if os.path.exists('saved_models/checkpoint2.pth'):\n",
    "    checkpoint = torch.load('saved_models/checkpoint2.pth')\n",
    "    model.load_state_dict(checkpoint['model_state_dict'])\n",
    "    optimizer.load_state_dict(checkpoint['optimizer_state_dict'])\n",
    "\n",
    "# Convert the sequences to tensors and move them to the device\n",
    "sequences = [torch.tensor(sequence).to(device) for sequence in sequences]\n",
    "\n",
    "# Prepare the data for training\n",
    "inputs = [sequence[:-1] for sequence in sequences]\n",
    "targets = [sequence[1:] for sequence in sequences]\n",
    "\n",
    "# Combine the inputs and targets into a single dataset\n",
    "dataset = list(zip(inputs, targets))\n",
    "\n",
    "# Split the dataset into a training set and a validation set\n",
    "train_size = int(0.8 * len(dataset))\n",
    "val_size = len(dataset) - train_size\n",
    "\n",
    "train_dataset, val_dataset = random_split(dataset, [train_size, val_size])\n",
    "# Set the number of training epochs and the learning rate\n",
    "# Set sequence length\n",
    "sequence_length = max(len(sequence) for sequence, _ in train_dataset)\n",
    "# Set sequence length\n",
    "#sequence_length = 100\n",
    "# Pad or truncate all sequences to this length  FOR USE ONLY WITH GAN\n",
    "#train_dataset = [sequence[:sequence_length] for sequence in train_dataset]\n",
    "\n",
    "\n",
    "# Create data loaders for the training and validation sets\n",
    "train_loader = DataLoader(train_dataset, batch_size=batch_size, shuffle=True, collate_fn=pad_collate)\n",
    "val_loader = DataLoader(val_dataset, batch_size=batch_size, collate_fn=pad_collate)"
   ]
  },
  {
   "cell_type": "code",
   "execution_count": null,
   "metadata": {},
   "outputs": [],
   "source": [
    "# Train the model\n",
    "for epoch in range(num_epochs):\n",
    "# Inside the training loop...\n",
    "    for i, (sequence, target) in enumerate(train_loader):\n",
    "        # Zero the gradients\n",
    "        optimizer.zero_grad()\n",
    "\n",
    "        # Forward pass\n",
    "        output = model(sequence)\n",
    "\n",
    "        # Reshape the output and target tensors\n",
    "        output = output.view(-1, output.shape[-1])  # shape: (sequence_length * batch_size, num_classes)\n",
    "        target = target.view(-1)  # shape: (sequence_length * batch_size,)\n",
    "\n",
    "        # Compute the loss\n",
    "        loss = loss_function(output, target)\n",
    "\n",
    "        # Backward pass and optimization\n",
    "        loss.backward()\n",
    "        optimizer.step()\n",
    "        \n",
    "        print(\"Step: \" + str(i) + \" loss: \" + str(loss.item()))\n",
    "\n",
    "    print(f'Epoch {epoch+1}, Training Loss: {loss.item()}')\n",
    "\n",
    "    # Validate the model\n",
    "    with torch.no_grad():\n",
    "        val_loss = 0\n",
    "        for sequence, target in val_loader:\n",
    "            output = model(sequence)\n",
    "\n",
    "            # Reshape the output and target tensors\n",
    "            output = output.view(-1, output.shape[-1])  # shape: (sequence_length * batch_size, num_classes)\n",
    "            target = target.view(-1)  # shape: (sequence_length * batch_size,)\n",
    "\n",
    "            loss = loss_function(output, target)\n",
    "            val_loss += loss.item()\n",
    "\n",
    "    print(f'Epoch {epoch+1}, Validation Loss: {(val_loss / len(val_loader)).item()}')\n",
    "\n",
    "#The training loop should execute below"
   ]
  },
  {
   "cell_type": "code",
   "execution_count": 11,
   "metadata": {},
   "outputs": [],
   "source": [
    "import os\n",
    "\n",
    "saved_model_dir = \"./saved_models/\"\n",
    "\n",
    "if not os.path.exists(saved_model_dir):\n",
    "    os.makedirs(saved_model_dir)\n"
   ]
  },
  {
   "cell_type": "code",
   "execution_count": 12,
   "metadata": {},
   "outputs": [],
   "source": [
    "\n",
    "# Suppose 'model' is your RNNModel\n",
    "torch.save({\n",
    "    'model_state_dict': model.state_dict(),\n",
    "    'optimizer_state_dict': optimizer.state_dict(),\n",
    "}, 'saved_models/checkpoint2.pth')"
   ]
  },
  {
   "cell_type": "code",
   "execution_count": 28,
   "metadata": {},
   "outputs": [
    {
     "name": "stdout",
     "output_type": "stream",
     "text": [
      "[resourcetype] careplan [id] 65f7e062-3c12-feef-6e60-83841775b37a patient/01a0bddd-16ab-9923-ca26-f7e6efe10dc3 . . . . . . . . . . . . . . . . . . . . . . . . . . . . . . . . . . . . . . . . . . . . . . . . . . . . . . . . . . . . . . . . . . . . . . . . . . . . . . . . . . . . . . . . . . . . . . . .\n",
      "[resourcetype] careplan [id] 65f7e062-3c12-feef-6e60-83841775b37a patient/01a0bddd-16ab-9923-ca26-f7e6efe10dc3 . . . . . . . . . . . . . . . . . . . . . . . . . . . . . . . . . . . . . . . . . . . . . . . . . . . . . . . . . . . . . . . . . . . . . . . . . . . . . . . . . . . . . . . . . . . . . . . . . . . . . . . . . . . . . . . . . . . . . . . . . . . . . . . . . . . . . . . . . . . . . . . . . . . . . . . . . . . . . . . . . . . . . . . . . . . . . . . . . . . . . . . . . . . . . . . . . . . .\n",
      "[resourcetype] careplan [id] 65f7e062-3c12-feef-6e60-83841775b37a patient/01a0bddd-16ab-9923-ca26-f7e6efe10dc3 . . . . . . . . . . . . . . . . . . . . . . . . . . . . . . . . . . . . . . . . . . . . . . . . . . . . . . . . . . . . . . . . . . . . . . . . . . . . . . . . . . . . . . . . . . . . . . . . . . . . . . . . . . . . . . . . . . . . . . . . . . . . . . . . . . . . . . . . . . . . . . . . . . . . . . . . . . . . . . . . . . . . . . . . . . . . . . . . . . . . . . . . . . . . . . . . . . . . . . . . . . . . . . . . . . . . . . . . . . . . . . . . . . . . . . . . . . . . . . . . . . . . . . . . . . . . . . . . . . . . . . . . . . . . . . . . . . . . . . . . . . . . . . . . . . . . . . . .\n",
      "[resourcetype] careplan [id] 65f7e062-3c12-feef-6e60-83841775b37a patient/01a0bddd-16ab-9923-ca26-f7e6efe10dc3 . . . . . . . . . . . . . . . . . . . . . . . . . . . . . . . . . . . . . . . . . . . . . . . . . . . . . . . . . . . . . . . . . . . . . . . . . . . . . . . . . . . . . . . . . . . . . . . . . . . . . . . . . . . . . . . . . . . . . . . . . . . . . . . . . . . . . . . . . . . . . . . . . . . . . . . . . . . . . . . . . . . . . . . . . . . . . . . . . . . . . . . . . . . . . . . . . . . . . . . . . . . . . . . . . . . . . . . . . . . . . . . . . . . . . . . . . . . . . . . . . . . . . . . . . . . . . . . . . . . . . . . . . . . . . . . . . . . . . . . . . . . . . . . . . . . . . . . . . . . . . . . . . . . . . . . . . . . . . . . . . . . . . . . . . . . . . . . . . . . . . . . . . . . . . . . . . . . . . . . . . . . . . . . . . . . . . . . . . . . . . . . . . . . . . . . . . . . .\n",
      "[resourcetype] careplan [id] 65f7e062-3c12-feef-6e60-83841775b37a patient/01a0bddd-16ab-9923-ca26-f7e6efe10dc3 . . . . . . . . . . . . . . . . . . . . . . . . . . . . . . . . . . . . . . . . . . . . . . . . . . . . . . . . . . . . . . . . . . . . . . . . . . . . . . . . . . . . . . . . . . . . . . . . . . . . . . . . . . . . . . . . . . . . . . . . . . . . . . . . . . . . . . . . . . . . . . . . . . . . . . . . . . . . . . . . . . . . . . . . . . . . . . . . . . . . . . . . . . . . . . . . . . . . . . . . . . . . . . . . . . . . . . . . . . . . . . . . . . . . . . . . . . . . . . . . . . . . . . . . . . . . . . . . . . . . . . . . . . . . . . . . . . . . . . . . . . . . . . . . . . . . . . . . . . . . . . . . . . . . . . . . . . . . . . . . . . . . . . . . . . . . . . . . . . . . . . . . . . . . . . . . . . . . . . . . . . . . . . . . . . . . . . . . . . . . . . . . . . . . . . . . . . . . . . . . . . . . . . . . . . . . . . . . . . . . . . . . . . . . . . . . . . . . . . . . . . . . . . . . . . . . . . . . . . . . . . . . . . . . . . . . . . . . . . . . . . . . . . . . . . . . . . . .\n",
      "[resourcetype] careplan [id] 65f7e062-3c12-feef-6e60-83841775b37a patient/01a0bddd-16ab-9923-ca26-f7e6efe10dc3 . . . . . . . . . . . . . . . . . . . . . . . . . . . . . . . . . . . . . . . . . . . . . . . . . . . . . . . . . . . . . . . . . . . . . . . . . . . . . . . . . . . . . . . . . . . . . . . . . . . . . . . . . . . . . . . . . . . . . . . . . . . . . . . . . . . . . . . . . . . . . . . . . . . . . . . . . . . . . . . . . . . . . . . . . . . . . . . . . . . . . . . . . . . . . . . . . . . . . . . . . . . . . . . . . . . . . . . . . . . . . . . . . . . . . . . . . . . . . . . . . . . . . . . . . . . . . . . . . . . . . . . . . . . . . . . . . . . . . . . . . . . . . . . . . . . . . . . . . . . . . . . . . . . . . . . . . . . . . . . . . . . . . . . . . . . . . . . . . . . . . . . . . . . . . . . . . . . . . . . . . . . . . . . . . . . . . . . . . . . . . . . . . . . . . . . . . . . . . . . . . . . . . . . . . . . . . . . . . . . . . . . . . . . . . . . . . . . . . . . . . . . . . . . . . . . . . . . . . . . . . . . . . . . . . . . . . . . . . . . . . . . . . . . . . . . . . . . . . . . . . . . . . . . . . . . . . . . . . . . . . . . . . . . . . . . . . . . . . . . . . . . . . . . . . . . . . . . . . . . . . . . . . . . . . . . . . . . . . . . . . . . . . . . . . . . . . . . .\n",
      "[resourcetype] careplan [id] 65f7e062-3c12-feef-6e60-83841775b37a patient/01a0bddd-16ab-9923-ca26-f7e6efe10dc3 . . . . . . . . . . . . . . . . . . . . . . . . . . . . . . . . . . . . . . . . . . . . . . . . . . . . . . . . . . . . . . . . . . . . . . . . . . . . . . . . . . . . . . . . . . . . . . . . . . . . . . . . . . . . . . . . . . . . . . . . . . . . . . . . . . . . . . . . . . . . . . . . . . . . . . . . . . . . . . . . . . . . . . . . . . . . . . . . . . . . . . . . . . . . . . . . . . . . . . . . . . . . . . . . . . . . . . . . . . . . . . . . . . . . . . . . . . . . . . . . . . . . . . . . . . . . . . . . . . . . . . . . . . . . . . . . . . . . . . . . . . . . . . . . . . . . . . . . . . . . . . . . . . . . . . . . . . . . . . . . . . . . . . . . . . . . . . . . . . . . . . . . . . . . . . . . . . . . . . . . . . . . . . . . . . . . . . . . . . . . . . . . . . . . . . . . . . . . . . . . . . . . . . . . . . . . . . . . . . . . . . . . . . . . . . . . . . . . . . . . . . . . . . . . . . . . . . . . . . . . . . . . . . . . . . . . . . . . . . . . . . . . . . . . . . . . . . . . . . . . . . . . . . . . . . . . . . . . . . . . . . . . . . . . . . . . . . . . . . . . . . . . . . . . . . . . . . . . . . . . . . . . . . . . . . . . . . . . . . . . . . . . . . . . . . . . . . . . . . . . . . . . . . . . . . . . . . . . . . . . . . . . . . . . . . . . . . . . . . . . . . . . . . . . . . . . . . . . . . . . . . . . . . . . . . . . . . . . . . . . . . . . . . . . . . . . . . . .\n",
      "[resourcetype] careplan [id] 65f7e062-3c12-feef-6e60-83841775b37a patient/01a0bddd-16ab-9923-ca26-f7e6efe10dc3 . . . . . . . . . . . . . . . . . . . . . . . . . . . . . . . . . . . . . . . . . . . . . . . . . . . . . . . . . . . . . . . . . . . . . . . . . . . . . . . . . . . . . . . . . . . . . . . . . . . . . . . . . . . . . . . . . . . . . . . . . . . . . . . . . . . . . . . . . . . . . . . . . . . . . . . . . . . . . . . . . . . . . . . . . . . . . . . . . . . . . . . . . . . . . . . . . . . . . . . . . . . . . . . . . . . . . . . . . . . . . . . . . . . . . . . . . . . . . . . . . . . . . . . . . . . . . . . . . . . . . . . . . . . . . . . . . . . . . . . . . . . . . . . . . . . . . . . . . . . . . . . . . . . . . . . . . . . . . . . . . . . . . . . . . . . . . . . . . . . . . . . . . . . . . . . . . . . . . . . . . . . . . . . . . . . . . . . . . . . . . . . . . . . . . . . . . . . . . . . . . . . . . . . . . . . . . . . . . . . . . . . . . . . . . . . . . . . . . . . . . . . . . . . . . . . . . . . . . . . . . . . . . . . . . . . . . . . . . . . . . . . . . . . . . . . . . . . . . . . . . . . . . . . . . . . . . . . . . . . . . . . . . . . . . . . . . . . . . . . . . . . . . . . . . . . . . . . . . . . . . . . . . . . . . . . . . . . . . . . . . . . . . . . . . . . . . . . . . . . . . . . . . . . . . . . . . . . . . . . . . . . . . . . . . . . . . . . . . . . . . . . . . . . . . . . . . . . . . . . . . . . . . . . . . . . . . . . . . . . . . . . . . . . . . . . . . . . . . . . . . . . . . . . . . . . . . . . . . . . . . . . . . . . . . . . . . . . . . . . . . . . . . . . . . . . . . . . . . . . . . . . . . . . . . . . . . . . . . . . . . . . . . . . . . . . . . . . .\n",
      "[resourcetype] careplan [id] 65f7e062-3c12-feef-6e60-83841775b37a patient/01a0bddd-16ab-9923-ca26-f7e6efe10dc3 . . . . . . . . . . . . . . . . . . . . . . . . . . . . . . . . . . . . . . . . . . . . . . . . . . . . . . . . . . . . . . . . . . . . . . . . . . . . . . . . . . . . . . . . . . . . . . . . . . . . . . . . . . . . . . . . . . . . . . . . . . . . . . . . . . . . . . . . . . . . . . . . . . . . . . . . . . . . . . . . . . . . . . . . . . . . . . . . . . . . . . . . . . . . . . . . . . . . . . . . . . . . . . . . . . . . . . . . . . . . . . . . . . . . . . . . . . . . . . . . . . . . . . . . . . . . . . . . . . . . . . . . . . . . . . . . . . . . . . . . . . . . . . . . . . . . . . . . . . . . . . . . . . . . . . . . . . . . . . . . . . . . . . . . . . . . . . . . . . . . . . . . . . . . . . . . . . . . . . . . . . . . . . . . . . . . . . . . . . . . . . . . . . . . . . . . . . . . . . . . . . . . . . . . . . . . . . . . . . . . . . . . . . . . . . . . . . . . . . . . . . . . . . . . . . . . . . . . . . . . . . . . . . . . . . . . . . . . . . . . . . . . . . . . . . . . . . . . . . . . . . . . . . . . . . . . . . . . . . . . . . . . . . . . . . . . . . . . . . . . . . . . . . . . . . . . . . . . . . . . . . . . . . . . . . . . . . . . . . . . . . . . . . . . . . . . . . . . . . . . . . . . . . . . . . . . . . . . . . . . . . . . . . . . . . . . . . . . . . . . . . . . . . . . . . . . . . . . . . . . . . . . . . . . . . . . . . . . . . . . . . . . . . . . . . . . . . . . . . . . . . . . . . . . . . . . . . . . . . . . . . . . . . . . . . . . . . . . . . . . . . . . . . . . . . . . . . . . . . . . . . . . . . . . . . . . . . . . . . . . . . . . . . . . . . . . . . . . . . . . . . . . . . . . . . . . . . . . . . . . . . . . . . . . . . . . . . . . . . . . . . . . . . . . . . . . . . . . . . . . . . . . . . . . . . . . . . . . . . . . . . . . . . . . . . . . . . . .\n",
      "[resourcetype] careplan [id] 65f7e062-3c12-feef-6e60-83841775b37a patient/01a0bddd-16ab-9923-ca26-f7e6efe10dc3 . . . . . . . . . . . . . . . . . . . . . . . . . . . . . . . . . . . . . . . . . . . . . . . . . . . . . . . . . . . . . . . . . . . . . . . . . . . . . . . . . . . . . . . . . . . . . . . . . . . . . . . . . . . . . . . . . . . . . . . . . . . . . . . . . . . . . . . . . . . . . . . . . . . . . . . . . . . . . . . . . . . . . . . . . . . . . . . . . . . . . . . . . . . . . . . . . . . . . . . . . . . . . . . . . . . . . . . . . . . . . . . . . . . . . . . . . . . . . . . . . . . . . . . . . . . . . . . . . . . . . . . . . . . . . . . . . . . . . . . . . . . . . . . . . . . . . . . . . . . . . . . . . . . . . . . . . . . . . . . . . . . . . . . . . . . . . . . . . . . . . . . . . . . . . . . . . . . . . . . . . . . . . . . . . . . . . . . . . . . . . . . . . . . . . . . . . . . . . . . . . . . . . . . . . . . . . . . . . . . . . . . . . . . . . . . . . . . . . . . . . . . . . . . . . . . . . . . . . . . . . . . . . . . . . . . . . . . . . . . . . . . . . . . . . . . . . . . . . . . . . . . . . . . . . . . . . . . . . . . . . . . . . . . . . . . . . . . . . . . . . . . . . . . . . . . . . . . . . . . . . . . . . . . . . . . . . . . . . . . . . . . . . . . . . . . . . . . . . . . . . . . . . . . . . . . . . . . . . . . . . . . . . . . . . . . . . . . . . . . . . . . . . . . . . . . . . . . . . . . . . . . . . . . . . . . . . . . . . . . . . . . . . . . . . . . . . . . . . . . . . . . . . . . . . . . . . . . . . . . . . . . . . . . . . . . . . . . . . . . . . . . . . . . . . . . . . . . . . . . . . . . . . . . . . . . . . . . . . . . . . . . . . . . . . . . . . . . . . . . . . . . . . . . . . . . . . . . . . . . . . . . . . . . . . . . . . . . . . . . . . . . . . . . . . . . . . . . . . . . . . . . . . . . . . . . . . . . . . . . . . . . . . . . . . . . . . . . . . . . . . . . . . . . . . . . . . . . . . . . . . . . . . . . . . . . . . . . . . . . . . . . . . . . . . . . . . . . . . . . . . . . . . . . . . . . . . . . . . . . . . . . . . . . . . . . . . . . .\n"
     ]
    }
   ],
   "source": [
    "n_sentences = 10\n",
    "sentence_len = 100\n",
    "sentence = '[resourcetype]'\n",
    "last_word = sentence\n",
    "\n",
    "for x in range(n_sentences):\n",
    "    for x in range(sentence_len):\n",
    "        pred = model.forward(torch.tensor([vocab[last_word]]))\n",
    "        last_word = vocab.get_itos()[pred.argmax(dim=1)[0].item()]\n",
    "        sentence += \" \" + last_word\n",
    "    print(sentence)"
   ]
  },
  {
   "cell_type": "code",
   "execution_count": null,
   "metadata": {},
   "outputs": [],
   "source": []
  }
 ],
 "metadata": {
  "kernelspec": {
   "display_name": "Python 3",
   "language": "python",
   "name": "python3"
  },
  "language_info": {
   "codemirror_mode": {
    "name": "ipython",
    "version": 3
   },
   "file_extension": ".py",
   "mimetype": "text/x-python",
   "name": "python",
   "nbconvert_exporter": "python",
   "pygments_lexer": "ipython3",
   "version": "3.10.11"
  },
  "orig_nbformat": 4
 },
 "nbformat": 4,
 "nbformat_minor": 2
}
