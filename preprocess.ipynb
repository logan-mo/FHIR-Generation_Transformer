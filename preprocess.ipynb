{
 "cells": [
  {
   "cell_type": "code",
   "execution_count": 1,
   "metadata": {},
   "outputs": [],
   "source": [
    "from datetime import datetime\n",
    "import pandas as pd\n",
    "import random\n",
    "import string\n",
    "import os"
   ]
  },
  {
   "cell_type": "code",
   "execution_count": 2,
   "metadata": {},
   "outputs": [
    {
     "data": {
      "text/html": [
       "<div>\n",
       "<style scoped>\n",
       "    .dataframe tbody tr th:only-of-type {\n",
       "        vertical-align: middle;\n",
       "    }\n",
       "\n",
       "    .dataframe tbody tr th {\n",
       "        vertical-align: top;\n",
       "    }\n",
       "\n",
       "    .dataframe thead th {\n",
       "        text-align: right;\n",
       "    }\n",
       "</style>\n",
       "<table border=\"1\" class=\"dataframe\">\n",
       "  <thead>\n",
       "    <tr style=\"text-align: right;\">\n",
       "      <th></th>\n",
       "      <th>FHIR</th>\n",
       "    </tr>\n",
       "  </thead>\n",
       "  <tbody>\n",
       "    <tr>\n",
       "      <th>0</th>\n",
       "      <td>[resourceType] CarePlan [id] 76d3b4b2-398f-437...</td>\n",
       "    </tr>\n",
       "    <tr>\n",
       "      <th>1</th>\n",
       "      <td>[resourceType] CarePlan [id] 438f38cf-970c-ac8...</td>\n",
       "    </tr>\n",
       "    <tr>\n",
       "      <th>2</th>\n",
       "      <td>[resourceType] CarePlan [id] e640ce64-377a-534...</td>\n",
       "    </tr>\n",
       "    <tr>\n",
       "      <th>3</th>\n",
       "      <td>[resourceType] CarePlan [id] d462da87-eb7c-a91...</td>\n",
       "    </tr>\n",
       "    <tr>\n",
       "      <th>4</th>\n",
       "      <td>[resourceType] CarePlan [id] 8f201be8-c19f-0a9...</td>\n",
       "    </tr>\n",
       "  </tbody>\n",
       "</table>\n",
       "</div>"
      ],
      "text/plain": [
       "                                                FHIR\n",
       "0  [resourceType] CarePlan [id] 76d3b4b2-398f-437...\n",
       "1  [resourceType] CarePlan [id] 438f38cf-970c-ac8...\n",
       "2  [resourceType] CarePlan [id] e640ce64-377a-534...\n",
       "3  [resourceType] CarePlan [id] d462da87-eb7c-a91...\n",
       "4  [resourceType] CarePlan [id] 8f201be8-c19f-0a9..."
      ]
     },
     "execution_count": 2,
     "metadata": {},
     "output_type": "execute_result"
    }
   ],
   "source": [
    "data_path = 'data'\n",
    "df = pd.read_csv(os.path.join(data_path, 'fhir-chunk-1.csv'), names=['FHIR'])\n",
    "df.head()"
   ]
  },
  {
   "cell_type": "code",
   "execution_count": 14,
   "metadata": {},
   "outputs": [],
   "source": [
    "dct = pd.DataFrame({'data':[len(x) for x in df['FHIR']]})['data'].value_counts().to_dict()\n",
    "dct = pd.DataFrame({'data':dct.keys(), 'count':dct.values()})"
   ]
  },
  {
   "cell_type": "code",
   "execution_count": 29,
   "metadata": {},
   "outputs": [
    {
     "data": {
      "text/plain": [
       "21597"
      ]
     },
     "execution_count": 29,
     "metadata": {},
     "output_type": "execute_result"
    }
   ],
   "source": [
    "sum(dct.query('data < 4096')['count'])"
   ]
  },
  {
   "cell_type": "code",
   "execution_count": 30,
   "metadata": {},
   "outputs": [
    {
     "data": {
      "text/plain": [
       "4"
      ]
     },
     "execution_count": 30,
     "metadata": {},
     "output_type": "execute_result"
    }
   ],
   "source": [
    "sum(dct.query('data > 4096')['count'])"
   ]
  },
  {
   "cell_type": "code",
   "execution_count": 72,
   "metadata": {},
   "outputs": [
    {
     "data": {
      "text/html": [
       "<div>\n",
       "<style scoped>\n",
       "    .dataframe tbody tr th:only-of-type {\n",
       "        vertical-align: middle;\n",
       "    }\n",
       "\n",
       "    .dataframe tbody tr th {\n",
       "        vertical-align: top;\n",
       "    }\n",
       "\n",
       "    .dataframe thead th {\n",
       "        text-align: right;\n",
       "    }\n",
       "</style>\n",
       "<table border=\"1\" class=\"dataframe\">\n",
       "  <thead>\n",
       "    <tr style=\"text-align: right;\">\n",
       "      <th></th>\n",
       "      <th>FHIR</th>\n",
       "      <th>seed</th>\n",
       "    </tr>\n",
       "  </thead>\n",
       "  <tbody>\n",
       "    <tr>\n",
       "      <th>0</th>\n",
       "      <td>[resourceType] CarePlan [id] 76d3b4b2-398f-437...</td>\n",
       "      <td>2023:08:07 17:04:01:564630 7811993317813</td>\n",
       "    </tr>\n",
       "    <tr>\n",
       "      <th>1</th>\n",
       "      <td>[resourceType] CarePlan [id] 438f38cf-970c-ac8...</td>\n",
       "      <td>2023:08:07 17:04:01:564630 8080884756854</td>\n",
       "    </tr>\n",
       "    <tr>\n",
       "      <th>2</th>\n",
       "      <td>[resourceType] CarePlan [id] e640ce64-377a-534...</td>\n",
       "      <td>2023:08:07 17:04:01:564630 5310056792143</td>\n",
       "    </tr>\n",
       "    <tr>\n",
       "      <th>3</th>\n",
       "      <td>[resourceType] CarePlan [id] d462da87-eb7c-a91...</td>\n",
       "      <td>2023:08:07 17:04:01:564630 7112294127215</td>\n",
       "    </tr>\n",
       "    <tr>\n",
       "      <th>4</th>\n",
       "      <td>[resourceType] CarePlan [id] 8f201be8-c19f-0a9...</td>\n",
       "      <td>2023:08:07 17:04:01:564630 6869493394686</td>\n",
       "    </tr>\n",
       "  </tbody>\n",
       "</table>\n",
       "</div>"
      ],
      "text/plain": [
       "                                                FHIR  \\\n",
       "0  [resourceType] CarePlan [id] 76d3b4b2-398f-437...   \n",
       "1  [resourceType] CarePlan [id] 438f38cf-970c-ac8...   \n",
       "2  [resourceType] CarePlan [id] e640ce64-377a-534...   \n",
       "3  [resourceType] CarePlan [id] d462da87-eb7c-a91...   \n",
       "4  [resourceType] CarePlan [id] 8f201be8-c19f-0a9...   \n",
       "\n",
       "                                       seed  \n",
       "0  2023:08:07 17:04:01:564630 7811993317813  \n",
       "1  2023:08:07 17:04:01:564630 8080884756854  \n",
       "2  2023:08:07 17:04:01:564630 5310056792143  \n",
       "3  2023:08:07 17:04:01:564630 7112294127215  \n",
       "4  2023:08:07 17:04:01:564630 6869493394686  "
      ]
     },
     "execution_count": 72,
     "metadata": {},
     "output_type": "execute_result"
    }
   ],
   "source": [
    "seeds = []\n",
    "for x in df['FHIR']:\n",
    "    seeds.append(datetime.now().strftime(\"%Y:%m:%d %H:%M:%S:%f\") + \" \" + str(random.randint(0, 100_000_000_000_00)))\n",
    "df[\"seed\"] = seeds\n",
    "df.head()"
   ]
  },
  {
   "cell_type": "code",
   "execution_count": 73,
   "metadata": {},
   "outputs": [],
   "source": [
    "df.to_csv(os.path.join(data_path, 'time_seed_fhir.csv'), index=False)"
   ]
  },
  {
   "cell_type": "code",
   "execution_count": 68,
   "metadata": {},
   "outputs": [
    {
     "data": {
      "text/html": [
       "<div>\n",
       "<style scoped>\n",
       "    .dataframe tbody tr th:only-of-type {\n",
       "        vertical-align: middle;\n",
       "    }\n",
       "\n",
       "    .dataframe tbody tr th {\n",
       "        vertical-align: top;\n",
       "    }\n",
       "\n",
       "    .dataframe thead th {\n",
       "        text-align: right;\n",
       "    }\n",
       "</style>\n",
       "<table border=\"1\" class=\"dataframe\">\n",
       "  <thead>\n",
       "    <tr style=\"text-align: right;\">\n",
       "      <th></th>\n",
       "      <th>FHIR</th>\n",
       "      <th>seed</th>\n",
       "    </tr>\n",
       "  </thead>\n",
       "  <tbody>\n",
       "    <tr>\n",
       "      <th>0</th>\n",
       "      <td>[resourceType] CarePlan [id] 76d3b4b2-398f-437...</td>\n",
       "      <td>QAD78A6DV1S96ZZMFXZFR67OGPZP46BP05JBER376TC9L7...</td>\n",
       "    </tr>\n",
       "    <tr>\n",
       "      <th>1</th>\n",
       "      <td>[resourceType] CarePlan [id] 438f38cf-970c-ac8...</td>\n",
       "      <td>SA9CR5UF5858TMNQ88BGJOLOYD2P278NHM4WXSRTLO3BTR...</td>\n",
       "    </tr>\n",
       "    <tr>\n",
       "      <th>2</th>\n",
       "      <td>[resourceType] CarePlan [id] e640ce64-377a-534...</td>\n",
       "      <td>33IF638VA5NF6CSSNSBANTQPMLXO1ITRNVW1DGKS8YYQO7...</td>\n",
       "    </tr>\n",
       "    <tr>\n",
       "      <th>3</th>\n",
       "      <td>[resourceType] CarePlan [id] d462da87-eb7c-a91...</td>\n",
       "      <td>FTF5EJIWUXCI9VBKEDD6NAZXSP4RWNRKZH26W0GZ30HXTC...</td>\n",
       "    </tr>\n",
       "    <tr>\n",
       "      <th>4</th>\n",
       "      <td>[resourceType] CarePlan [id] 8f201be8-c19f-0a9...</td>\n",
       "      <td>2XZXTAGU06CCIICU4GZ6T523S43XS1A3HMNFC6UFNLGIGU...</td>\n",
       "    </tr>\n",
       "  </tbody>\n",
       "</table>\n",
       "</div>"
      ],
      "text/plain": [
       "                                                FHIR  \\\n",
       "0  [resourceType] CarePlan [id] 76d3b4b2-398f-437...   \n",
       "1  [resourceType] CarePlan [id] 438f38cf-970c-ac8...   \n",
       "2  [resourceType] CarePlan [id] e640ce64-377a-534...   \n",
       "3  [resourceType] CarePlan [id] d462da87-eb7c-a91...   \n",
       "4  [resourceType] CarePlan [id] 8f201be8-c19f-0a9...   \n",
       "\n",
       "                                                seed  \n",
       "0  QAD78A6DV1S96ZZMFXZFR67OGPZP46BP05JBER376TC9L7...  \n",
       "1  SA9CR5UF5858TMNQ88BGJOLOYD2P278NHM4WXSRTLO3BTR...  \n",
       "2  33IF638VA5NF6CSSNSBANTQPMLXO1ITRNVW1DGKS8YYQO7...  \n",
       "3  FTF5EJIWUXCI9VBKEDD6NAZXSP4RWNRKZH26W0GZ30HXTC...  \n",
       "4  2XZXTAGU06CCIICU4GZ6T523S43XS1A3HMNFC6UFNLGIGU...  "
      ]
     },
     "execution_count": 68,
     "metadata": {},
     "output_type": "execute_result"
    }
   ],
   "source": [
    "df['seed'] = df['seed'].apply(lambda x: ''.join(random.SystemRandom().choice(string.ascii_uppercase + string.digits) for _ in range(128)))\n",
    "df.head()"
   ]
  },
  {
   "cell_type": "code",
   "execution_count": 69,
   "metadata": {},
   "outputs": [],
   "source": [
    "df.to_csv(os.path.join(data_path, 'randstr_seed_fhir.csv'), index=False)"
   ]
  },
  {
   "cell_type": "markdown",
   "metadata": {},
   "source": [
    "## Split"
   ]
  },
  {
   "cell_type": "code",
   "execution_count": 1,
   "metadata": {},
   "outputs": [],
   "source": [
    "import pandas as pd"
   ]
  },
  {
   "cell_type": "code",
   "execution_count": 6,
   "metadata": {},
   "outputs": [],
   "source": [
    "df = pd.read_csv('data/time_seed_fhir.csv').sample(frac=1).reset_index(drop=True)"
   ]
  },
  {
   "cell_type": "code",
   "execution_count": 9,
   "metadata": {},
   "outputs": [],
   "source": [
    "test_size = 0.1\n",
    "\n",
    "df[:int(len(df)*test_size)].to_csv('time_seed_fhir_test.csv', index=False)\n",
    "df[int(len(df)*test_size):].to_csv('time_seed_fhir_train.csv', index=False)"
   ]
  },
  {
   "cell_type": "code",
   "execution_count": null,
   "metadata": {},
   "outputs": [],
   "source": []
  },
  {
   "cell_type": "markdown",
   "metadata": {},
   "source": [
    "## eh"
   ]
  },
  {
   "cell_type": "code",
   "execution_count": null,
   "metadata": {},
   "outputs": [],
   "source": [
    "!gdown \"185fofd2MIJSyE-LzHcIX1eSlwQXm43qt\""
   ]
  },
  {
   "cell_type": "code",
   "execution_count": 1,
   "metadata": {},
   "outputs": [],
   "source": [
    "import pandas as pd"
   ]
  },
  {
   "cell_type": "code",
   "execution_count": null,
   "metadata": {},
   "outputs": [],
   "source": [
    "df = pd.read_json('Procedure.ndjson', lines=True)"
   ]
  },
  {
   "cell_type": "code",
   "execution_count": null,
   "metadata": {},
   "outputs": [],
   "source": []
  }
 ],
 "metadata": {
  "kernelspec": {
   "display_name": ".venv",
   "language": "python",
   "name": "python3"
  },
  "language_info": {
   "codemirror_mode": {
    "name": "ipython",
    "version": 3
   },
   "file_extension": ".py",
   "mimetype": "text/x-python",
   "name": "python",
   "nbconvert_exporter": "python",
   "pygments_lexer": "ipython3",
   "version": "3.10.11"
  },
  "orig_nbformat": 4
 },
 "nbformat": 4,
 "nbformat_minor": 2
}
